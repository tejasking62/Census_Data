{
 "cells": [
  {
   "cell_type": "markdown",
   "metadata": {},
   "source": [
    "Age Demographics Across the US"
   ]
  },
  {
   "cell_type": "code",
   "execution_count": 50,
   "metadata": {},
   "outputs": [],
   "source": [
    "import requests\n",
    "import pandas as pd\n",
    "import matplotlib.pyplot as plt\n",
    "\n",
    "from openpyxl import Workbook\n",
    "from openpyxl.drawing.image import Image\n",
    "from openpyxl.utils.dataframe import dataframe_to_rows\n"
   ]
  },
  {
   "cell_type": "code",
   "execution_count": 51,
   "metadata": {},
   "outputs": [],
   "source": [
    "api_key = 'f0c4eb00eca42436fb48ac7c95e9b0c902c5eeb4'\n",
    "\n",
    "def get_data(year):\n",
    "    url = f'https://api.census.gov/data/{year}/acs/acs5/subject?'\n",
    "\n",
    "    params = {\n",
    "        'get': 'NAME,S0101_C01_001E,S0101_C01_002E,S0101_C01_003E,S0101_C01_004E,S0101_C01_005E,S0101_C01_006E,S0101_C01_007E,S0101_C01_008E,S0101_C01_009E,S0101_C01_010E,S0101_C01_011E,S0101_C01_012E,S0101_C01_013E,S0101_C01_014E,S0101_C01_015E,S0101_C01_016E,S0101_C01_017E,S0101_C01_018E,S0101_C01_019E',\n",
    "        'for': 'state:*',\n",
    "        'key': api_key\n",
    "    }\n",
    "\n",
    "    response = requests.get(url, params=params)\n",
    "    \n",
    "    data = response.json()\n",
    "    \n",
    "    return data\n",
    "    \n",
    "    "
   ]
  },
  {
   "cell_type": "code",
   "execution_count": 52,
   "metadata": {},
   "outputs": [],
   "source": [
    "year = '2022'\n",
    "json_data = get_data(year)\n",
    "\n",
    "df = pd.DataFrame(json_data[1:], columns=json_data[0])\n",
    "\n",
    "df = df.rename(columns={\n",
    "    'S0101_C01_001E': 'Total Population',\n",
    "    'S0101_C01_002E': 'Under 5',\n",
    "    'S0101_C01_003E': '5-9',\n",
    "    'S0101_C01_004E': '10-14',\n",
    "    'S0101_C01_005E': '15-19',\n",
    "    'S0101_C01_006E': '20-24',\n",
    "    'S0101_C01_007E': '25-29',\n",
    "    'S0101_C01_008E': '30-34',\n",
    "    'S0101_C01_009E': '35-39',\n",
    "    'S0101_C01_010E': '40-44',\n",
    "    'S0101_C01_011E': '45-49',\n",
    "    'S0101_C01_012E': '50-54',\n",
    "    'S0101_C01_013E': '55-59',\n",
    "    'S0101_C01_014E': '60-64',\n",
    "    'S0101_C01_015E': '65-69',\n",
    "    'S0101_C01_016E': '70-74',\n",
    "    'S0101_C01_017E': '75-79',\n",
    "    'S0101_C01_018E': '80-84',\n",
    "    'S0101_C01_019E': '85+'\n",
    "})\n",
    "\n"
   ]
  },
  {
   "cell_type": "code",
   "execution_count": 53,
   "metadata": {},
   "outputs": [],
   "source": [
    "# Convert columns to numeric\n",
    "for col in df.columns[1:]:\n",
    "    df[col] = pd.to_numeric(df[col])\n"
   ]
  },
  {
   "cell_type": "code",
   "execution_count": 54,
   "metadata": {},
   "outputs": [],
   "source": [
    "# Calculate percentages\n",
    "age_groups = df.columns[2:20]\n",
    "for col in age_groups:\n",
    "    df[f'{col}_pct'] = (df[col] / df['Total Population']) * 100\n",
    "   \n",
    "pct_cols = [f'{col}_pct' for col in age_groups]\n",
    "\n",
    "\n"
   ]
  },
  {
   "cell_type": "code",
   "execution_count": 59,
   "metadata": {},
   "outputs": [],
   "source": [
    "colors = ['blue', 'red', 'green', 'yellow', 'pink', 'purple', 'black', 'cyan', 'orange', 'brown', 'gray', 'cyan', 'olive']\n",
    "\n",
    "df.set_index('NAME')[pct_cols].plot(kind='bar', stacked=True, figsize=(14, 8), color=colors)\n",
    "plt.title('Age Demographics Across States in 2022')\n",
    "plt.xlabel('State')\n",
    "plt.ylabel('Percentage of Population')\n",
    "plt.legend(age_groups[:18], title='Age Groups', bbox_to_anchor=(1.05, 1), loc='upper left')\n",
    "\n",
    "\n",
    "plt.tight_layout()\n",
    "plot_file = 'my_acs_plot.png'\n",
    "plt.savefig(plot_file, dpi=150)\n",
    "plt.close()"
   ]
  },
  {
   "cell_type": "code",
   "execution_count": 60,
   "metadata": {},
   "outputs": [],
   "source": [
    "file_name = 'ACS_data.xlsx'\n",
    "\n",
    "# Save data to an excel file\n",
    "writer = pd.ExcelWriter(file_name, engine='openpyxl')\n",
    "df.to_excel(writer, sheet_name='ACS Data', index=False)\n",
    "\n",
    "wb = writer.book\n",
    "\n",
    "# Load image to new sheet\n",
    "ws = wb.create_sheet(title='Plot')\n",
    "img = Image(plot_file)\n",
    "ws.add_image(img, 'A1')\n",
    "\n",
    "wb.save(file_name)\n",
    "plt.show()"
   ]
  }
 ],
 "metadata": {
  "kernelspec": {
   "display_name": "Python 3",
   "language": "python",
   "name": "python3"
  },
  "language_info": {
   "codemirror_mode": {
    "name": "ipython",
    "version": 3
   },
   "file_extension": ".py",
   "mimetype": "text/x-python",
   "name": "python",
   "nbconvert_exporter": "python",
   "pygments_lexer": "ipython3",
   "version": "3.12.3"
  }
 },
 "nbformat": 4,
 "nbformat_minor": 2
}
